{
  "nbformat": 4,
  "nbformat_minor": 0,
  "metadata": {
    "colab": {
      "name": "JZ_day 1",
      "provenance": [],
      "toc_visible": true,
      "authorship_tag": "ABX9TyM6Os/z2GOx3dcHPymqr92C",
      "include_colab_link": true
    },
    "kernelspec": {
      "name": "python3",
      "display_name": "Python 3"
    }
  },
  "cells": [
    {
      "cell_type": "markdown",
      "metadata": {
        "id": "view-in-github",
        "colab_type": "text"
      },
      "source": [
        "<a href=\"https://colab.research.google.com/github/zula7777/JZ/blob/master/JZ_day_1.ipynb\" target=\"_parent\"><img src=\"https://colab.research.google.com/assets/colab-badge.svg\" alt=\"Open In Colab\"/></a>"
      ]
    },
    {
      "cell_type": "code",
      "metadata": {
        "id": "-3b-Z8iIydRm",
        "colab_type": "code",
        "colab": {
          "base_uri": "https://localhost:8080/",
          "height": 221
        },
        "outputId": "ee33e6f0-acf4-448d-8788-42ccb0c53c35"
      },
      "source": [
        "cola = 400\n",
        "apples = 350\n",
        "milk = 200.5\n",
        "\n",
        "print(cola+apples)\n",
        "print(milk+cola-apples)\n",
        "print(milk*2)\n",
        "\n",
        "total = cola * 2 - 350\n",
        "print(total/2)\n",
        "\n",
        "print(float(milk)/2)\n",
        "print(float(apples/1.5))\n",
        "print(apples / 1.5)\n",
        "milk += apples\n",
        "print(milk)\n",
        "print(apples)\n",
        "\n",
        "print(milk % cola)\n",
        "print(total * 4 // apples)\n",
        "print(apples)"
      ],
      "execution_count": 39,
      "outputs": [
        {
          "output_type": "stream",
          "text": [
            "750\n",
            "250.5\n",
            "401.0\n",
            "225.0\n",
            "100.25\n",
            "233.33333333333334\n",
            "233.33333333333334\n",
            "550.5\n",
            "350\n",
            "150.5\n",
            "5\n",
            "350\n"
          ],
          "name": "stdout"
        }
      ]
    },
    {
      "cell_type": "markdown",
      "metadata": {
        "id": "bCW8eBu1A5lw",
        "colab_type": "text"
      },
      "source": [
        ""
      ]
    },
    {
      "cell_type": "markdown",
      "metadata": {
        "id": "bnvCIaNQA56p",
        "colab_type": "text"
      },
      "source": [
        ""
      ]
    },
    {
      "cell_type": "markdown",
      "metadata": {
        "id": "DOMjB-g8A6ZC",
        "colab_type": "text"
      },
      "source": [
        ""
      ]
    }
  ]
}