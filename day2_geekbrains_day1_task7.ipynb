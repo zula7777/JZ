{
  "nbformat": 4,
  "nbformat_minor": 0,
  "metadata": {
    "colab": {
      "name": "day2_geekbrains_day1_task7.ipynb",
      "provenance": [],
      "collapsed_sections": [],
      "authorship_tag": "ABX9TyPK4+2ZwSk/gGLchTvmePGY",
      "include_colab_link": true
    },
    "kernelspec": {
      "name": "python3",
      "display_name": "Python 3"
    }
  },
  "cells": [
    {
      "cell_type": "markdown",
      "metadata": {
        "id": "view-in-github",
        "colab_type": "text"
      },
      "source": [
        "<a href=\"https://colab.research.google.com/github/zula7777/JZ/blob/master/day2_geekbrains_day1_task7.ipynb\" target=\"_parent\"><img src=\"https://colab.research.google.com/assets/colab-badge.svg\" alt=\"Open In Colab\"/></a>"
      ]
    },
    {
      "cell_type": "code",
      "metadata": {
        "id": "vda6ol99XR9z",
        "colab_type": "code",
        "colab": {}
      },
      "source": [
        "year = int(input(\"Enter a year to check leap: \"))\n",
        "\n",
        "if year < 0:\n",
        "    print(\"Enter a year in AC (year after Christ was born)\")\n",
        "\n",
        "elif year % 4 == 0 and year <= 1600:\n",
        "    print(\"Year is leap\")  \n",
        "\n",
        "elif year % 4 != 0 or (year % 100 == 0 and year % 400 != 0):\n",
        "    print(\"Year is NOT leap\")\n",
        "\n",
        "else:\n",
        "    print(\"Year is leap\")"
      ],
      "execution_count": 0,
      "outputs": []
    }
  ]
}