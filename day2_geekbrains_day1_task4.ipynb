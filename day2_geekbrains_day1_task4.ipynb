{
  "nbformat": 4,
  "nbformat_minor": 0,
  "metadata": {
    "colab": {
      "name": "day2_geekbrains_day1_task4.ipynb",
      "provenance": [],
      "authorship_tag": "ABX9TyN8LeZtmjG7hARXb4InVWIy",
      "include_colab_link": true
    },
    "kernelspec": {
      "name": "python3",
      "display_name": "Python 3"
    }
  },
  "cells": [
    {
      "cell_type": "markdown",
      "metadata": {
        "id": "view-in-github",
        "colab_type": "text"
      },
      "source": [
        "<a href=\"https://colab.research.google.com/github/zula7777/JZ/blob/master/day2_geekbrains_day1_task4.ipynb\" target=\"_parent\"><img src=\"https://colab.research.google.com/assets/colab-badge.svg\" alt=\"Open In Colab\"/></a>"
      ]
    },
    {
      "cell_type": "code",
      "metadata": {
        "id": "qQLHw7gGQO9W",
        "colab_type": "code",
        "outputId": "4d77918e-a356-458a-ab11-a13265defcb8",
        "colab": {
          "base_uri": "https://localhost:8080/",
          "height": 102
        }
      },
      "source": [
        "first_symbol = ord(input(\"Enter the 1st symbol: \"))\n",
        "second_symbol = ord(input(\"Enter the 2nd symbol: \"))\n",
        "if first_symbol != second_symbol:\n",
        "    n = int(second_symbol - first_symbol - 1)\n",
        "    print(f'First symbol is placed {first_symbol - 96} on the alphabet')\n",
        "    print(f'First symbol is placed {second_symbol - 96} on the alphabet')\n",
        "    print(f'The number of symbols in between is: {int(n)}')\n",
        "else: \n",
        "    print(f'Enter different symbols')"
      ],
      "execution_count": 15,
      "outputs": [
        {
          "output_type": "stream",
          "text": [
            "Enter the 1st symbol: a\n",
            "Enter the 2nd symbol: z\n",
            "First symbol is placed 1 on the alphabet\n",
            "First symbol is placed 26 on the alphabet\n",
            "The number of symbols in between is: 24\n"
          ],
          "name": "stdout"
        }
      ]
    }
  ]
}