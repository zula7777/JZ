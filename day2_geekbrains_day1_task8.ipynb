{
  "nbformat": 4,
  "nbformat_minor": 0,
  "metadata": {
    "colab": {
      "name": "day2_geekbrains_day1_task8.ipynb",
      "provenance": [],
      "authorship_tag": "ABX9TyPg5sUs4rxJU+tZVHGJK1JD",
      "include_colab_link": true
    },
    "kernelspec": {
      "name": "python3",
      "display_name": "Python 3"
    }
  },
  "cells": [
    {
      "cell_type": "markdown",
      "metadata": {
        "id": "view-in-github",
        "colab_type": "text"
      },
      "source": [
        "<a href=\"https://colab.research.google.com/github/zula7777/JZ/blob/master/day2_geekbrains_day1_task8.ipynb\" target=\"_parent\"><img src=\"https://colab.research.google.com/assets/colab-badge.svg\" alt=\"Open In Colab\"/></a>"
      ]
    },
    {
      "cell_type": "code",
      "metadata": {
        "id": "O4XRH9g1YDUg",
        "colab_type": "code",
        "colab": {
          "base_uri": "https://localhost:8080/",
          "height": 102
        },
        "outputId": "696023dd-9e80-41a8-9788-ae40ecac4ae4"
      },
      "source": [
        "print(\"Enter 3 numbers to find mid value\")\n",
        "a = int(input(\"Enter the 1st number: \"))\n",
        "b = int(input(\"Enter the 2nd number: \"))\n",
        "c = int(input(\"Enter the 3rd number: \"))\n",
        "\n",
        "if (a < b and a > c) or (a < c and a > b):\n",
        "  print(a)\n",
        "elif (b > a and b < c) or (b > c and b < a):\n",
        "  print(b)\n",
        "else:\n",
        "  print(c)"
      ],
      "execution_count": 48,
      "outputs": [
        {
          "output_type": "stream",
          "text": [
            "Enter 3 numbers to find mid value\n",
            "Enter the 1st number: 6\n",
            "Enter the 2nd number: 4\n",
            "Enter the 3rd number: 2\n",
            "4\n"
          ],
          "name": "stdout"
        }
      ]
    }
  ]
}