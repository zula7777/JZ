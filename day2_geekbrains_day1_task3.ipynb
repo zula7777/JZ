{
  "nbformat": 4,
  "nbformat_minor": 0,
  "metadata": {
    "colab": {
      "name": "day2_geekbrains_day1_task3.ipynb",
      "provenance": [],
      "collapsed_sections": [],
      "authorship_tag": "ABX9TyP9VSV9E1VRyKMe4zDYCF+d",
      "include_colab_link": true
    },
    "kernelspec": {
      "name": "python3",
      "display_name": "Python 3"
    }
  },
  "cells": [
    {
      "cell_type": "markdown",
      "metadata": {
        "id": "view-in-github",
        "colab_type": "text"
      },
      "source": [
        "<a href=\"https://colab.research.google.com/github/zula7777/JZ/blob/master/day2_geekbrains_day1_task3.ipynb\" target=\"_parent\"><img src=\"https://colab.research.google.com/assets/colab-badge.svg\" alt=\"Open In Colab\"/></a>"
      ]
    },
    {
      "cell_type": "code",
      "metadata": {
        "id": "_mC-ZcjHEHsT",
        "colab_type": "code",
        "colab": {
          "base_uri": "https://localhost:8080/",
          "height": 153
        },
        "outputId": "d762e459-31f6-4e62-9b82-91a3374e3b85"
      },
      "source": [
        "from random import random\n",
        "#random() returns value between [0, 1)\n",
        "\n",
        "option = int(input('Select one of the options below (enter a number): \\n 1. Random integer \\n 2. Randon float \\n 3. Random symbol \\n'))\n",
        "\n",
        "if option == 1:\n",
        "    low = int(input(\"Enter the lower range number: \"))\n",
        "    high = int(input(\"Enter the higher range number: \"))\n",
        "    n = int(random() * (high-low+1)) + low\n",
        "    print(f'The random number is: {n}')\n",
        "\n",
        "elif option == 2: \n",
        "    low = float(input(\"Enter the lower range number: \"))\n",
        "    high = float(input(\"Enter the higher range number: \"))\n",
        "    n = random() * (high-low) + low\n",
        "    print(f'The random number is: {round(n,2)}')\n",
        "\n",
        "elif option == 3:\n",
        "    low = ord(input(\"Enter the lower range symbol: \"))\n",
        "    high = ord(input(\"Enter the higher range symbol: \"))\n",
        "    n = int(random() * (high-low+1)) + low\n",
        "    print(f'The random symbol is: {chr(n)}')\n",
        "\n",
        "else:\n",
        "    print(\"Select from the provided options\")"
      ],
      "execution_count": 23,
      "outputs": [
        {
          "output_type": "stream",
          "text": [
            "Select one of the options below (enter a number): \n",
            " 1. Random integer \n",
            " 2. Randon float \n",
            " 3. Random symbol \n",
            "2\n",
            "Enter the lower range number: 1.01\n",
            "Enter the higher range number: 1.03\n",
            "The random number is: 1.01\n"
          ],
          "name": "stdout"
        }
      ]
    },
    {
      "cell_type": "code",
      "metadata": {
        "id": "RasssSa8LP4n",
        "colab_type": "code",
        "colab": {}
      },
      "source": [
        "\n"
      ],
      "execution_count": 0,
      "outputs": []
    }
  ]
}