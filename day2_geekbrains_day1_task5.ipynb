{
  "nbformat": 4,
  "nbformat_minor": 0,
  "metadata": {
    "colab": {
      "name": "day2_geekbrains_day1_task5.ipynb",
      "provenance": [],
      "authorship_tag": "ABX9TyO6WuO8C3DEEMIgqZR32YSW",
      "include_colab_link": true
    },
    "kernelspec": {
      "name": "python3",
      "display_name": "Python 3"
    }
  },
  "cells": [
    {
      "cell_type": "markdown",
      "metadata": {
        "id": "view-in-github",
        "colab_type": "text"
      },
      "source": [
        "<a href=\"https://colab.research.google.com/github/zula7777/JZ/blob/master/day2_geekbrains_day1_task5.ipynb\" target=\"_parent\"><img src=\"https://colab.research.google.com/assets/colab-badge.svg\" alt=\"Open In Colab\"/></a>"
      ]
    },
    {
      "cell_type": "code",
      "metadata": {
        "id": "qZ79b56lSXxy",
        "colab_type": "code",
        "colab": {
          "base_uri": "https://localhost:8080/",
          "height": 51
        },
        "outputId": "11006354-5787-45ba-ad82-8d1fbc54584b"
      },
      "source": [
        "n = int(input(\"Enter a number of the symbol in alphabet: \"))\n",
        "\n",
        "if n > 0 and n <= 26: \n",
        "    print(f'The symbol located under the number is: {chr(n + 96).upper()}')\n",
        "else: \n",
        "    print(f'Enter a number between 1 and 26')"
      ],
      "execution_count": 9,
      "outputs": [
        {
          "output_type": "stream",
          "text": [
            "Enter a number of the symbol in alphabet: 20\n",
            "The symbol located under the number is: T\n"
          ],
          "name": "stdout"
        }
      ]
    }
  ]
}