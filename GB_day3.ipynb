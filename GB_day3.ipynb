{
  "nbformat": 4,
  "nbformat_minor": 0,
  "metadata": {
    "colab": {
      "name": "GB_day3.ipynb",
      "provenance": [],
      "collapsed_sections": [],
      "authorship_tag": "ABX9TyNplnAmJQf4RI497bqMySyy",
      "include_colab_link": true
    },
    "kernelspec": {
      "name": "python3",
      "display_name": "Python 3"
    }
  },
  "cells": [
    {
      "cell_type": "markdown",
      "metadata": {
        "id": "view-in-github",
        "colab_type": "text"
      },
      "source": [
        "<a href=\"https://colab.research.google.com/github/zula7777/JZ/blob/master/GB_day3.ipynb\" target=\"_parent\"><img src=\"https://colab.research.google.com/assets/colab-badge.svg\" alt=\"Open In Colab\"/></a>"
      ]
    },
    {
      "cell_type": "code",
      "metadata": {
        "id": "_PegWjjYYEjd",
        "colab_type": "code",
        "colab": {
          "base_uri": "https://localhost:8080/",
          "height": 101
        },
        "outputId": "62c083aa-48dd-42ec-9687-69dbbc5fd1b8"
      },
      "source": [
        "#Создать калькулятор\n",
        "while True:\n",
        "  x = input(\"Выберите один из знаков ('+' '-' '*' '/'): \")\n",
        "  if x == '0': \n",
        "      break\n",
        "  \n",
        "  if x in ('+', '-', '*', '/', 0):\n",
        "    a = int(input(\"Введите первое число: \"))\n",
        "    b = int(input(\"Введите второе число: \"))\n",
        "    \n",
        "    if x == '+':\n",
        "      print(f'Ответ: {a + b}. Если вы закончили в следующем действии нажмите знак 0')\n",
        "    elif x == '-':\n",
        "      print(f'Ответ: {a - b}. Если вы закончили в следующем действии нажмите знак 0')\n",
        "    elif x == '*':\n",
        "      print(f'Ответ: {a * b}. Если вы закончили в следующем действии нажмите знак 0')  \n",
        "    elif x == '/':\n",
        "      if b != 0:\n",
        "        print(f'Ответ: {round(a / b, 2)}. Если вы закончили в следующем действии нажмите знак 0')\n",
        "      else:\n",
        "        print(f'Не делится на 0')\n",
        "      \n",
        "  else:\n",
        "    print('Введите правильный знак')"
      ],
      "execution_count": 5,
      "outputs": [
        {
          "output_type": "stream",
          "text": [
            "Выберите один из знаков ('+' '-' '*' '/'): +\n",
            "Введите первое число: 1\n",
            "Введите второе число: 1\n",
            "Ответ: 2. Если вы закончили в следующем действии нажмите знак 0\n",
            "Выберите один из знаков ('+' '-' '*' '/'): 0\n"
          ],
          "name": "stdout"
        }
      ]
    },
    {
      "cell_type": "code",
      "metadata": {
        "id": "FMzRBvM2pIki",
        "colab_type": "code",
        "colab": {
          "base_uri": "https://localhost:8080/",
          "height": 50
        },
        "outputId": "06b05b8d-5e73-4281-cf26-3da8db4f5aa9"
      },
      "source": [
        "#Посчитать четные и нечетные цифры введенного натурального числа. Например, если введено число 34560, в нем 3 четные цифры (4, 6 и 0) и 2 нечетные (3 и 5)\n",
        "n = abs(int(input(\"Введите натуральное число: \")))\n",
        "even_n = 0\n",
        "odd_n = 0\n",
        "\n",
        "if n == 0:\n",
        "    even_n = 1\n",
        "while n > 0:\n",
        "  if n % 2 == 0:\n",
        "    even_n += 1\n",
        "  else:\n",
        "    odd_n += 1\n",
        "  n = n // 10\n",
        "print(f'Количество четных чисел: {even_n}, а нечетных: {odd_n}')"
      ],
      "execution_count": 34,
      "outputs": [
        {
          "output_type": "stream",
          "text": [
            "Введите натуральное число: 3657\n",
            "Количество четных чисел: 1, а нечетных: 3\n"
          ],
          "name": "stdout"
        }
      ]
    },
    {
      "cell_type": "code",
      "metadata": {
        "id": "8TXfvCWiz-RB",
        "colab_type": "code",
        "colab": {
          "base_uri": "https://localhost:8080/",
          "height": 50
        },
        "outputId": "f2afe9e6-86d1-48a6-fb1d-486e3b41c5c6"
      },
      "source": [
        "#Сформировать из введенного числа обратное по порядку входящих в него цифр и вывести на экран. Например, если введено число 3486, надо вывести 6843\n",
        "\n",
        "n = input('Введите число: ')\n",
        "print(n[::-1])"
      ],
      "execution_count": 32,
      "outputs": [
        {
          "output_type": "stream",
          "text": [
            "Введите число: 348650\n",
            "056843\n"
          ],
          "name": "stdout"
        }
      ]
    },
    {
      "cell_type": "code",
      "metadata": {
        "id": "pBA4dDox2I2G",
        "colab_type": "code",
        "colab": {
          "base_uri": "https://localhost:8080/",
          "height": 50
        },
        "outputId": "a5ef8653-9a41-4adb-8901-fac4d98bfae6"
      },
      "source": [
        "#Найти сумму n элементов следующего ряда чисел: 1, -0.5, 0.25, -0.125,… Количество элементов (n) вводится с клавиатуры\n",
        "n = int(input(\"Введите количество суммирований n/-2: \"))\n",
        "\n",
        "multiple = 1\n",
        "counter = 0\n",
        "s = 0\n",
        "while counter < n:\n",
        "\ts += multiple\n",
        "\tmultiple = multiple /-2\n",
        "\tcounter += 1\n",
        " \n",
        "print(s)"
      ],
      "execution_count": 105,
      "outputs": [
        {
          "output_type": "stream",
          "text": [
            "Введите количество суммирований n/-2: 4\n",
            "0.625\n"
          ],
          "name": "stdout"
        }
      ]
    },
    {
      "cell_type": "code",
      "metadata": {
        "id": "rWqg26n4H64R",
        "colab_type": "code",
        "colab": {
          "base_uri": "https://localhost:8080/",
          "height": 286
        },
        "outputId": "dafeacd6-5423-4c88-dd86-eca31d918a98"
      },
      "source": [
        "#В программе генерируется случайное целое число от 0 до 100. Пользователь должен его отгадать не более чем за 10 попыток. После каждой неудачной \n",
        "#попытки должно сообщаться, больше или меньше введенное пользователем число, чем то, что загадано. Если за 10 попыток число не отгадано, вывести ответ\n",
        "import random\n",
        "\n",
        "a = random.randint(0, 100)\n",
        "n = 0\n",
        "\n",
        "while n < 10:\n",
        "  b = int(input(f'Введите число для отгадки: '))\n",
        "  if a == b:\n",
        "    print(f'Случайное число отгадано верно, поздравляем!')\n",
        "    break\n",
        "  elif a > b:\n",
        "    print(f'Случайное число больше введенного пользователем. Попробуйте еще раз!')\n",
        "  elif a < b:\n",
        "    print(f'Случайное число меньше введенного пользователем. Попробуйте еще раз!')\n",
        "  n += 1\n",
        "if n > 10:\n",
        "  print (f'Использовано все 10 попыток. Случайное число было: {a}')\n",
        "  \n"
      ],
      "execution_count": 111,
      "outputs": [
        {
          "output_type": "stream",
          "text": [
            "Введите число для отгадки: 50\n",
            "Случайное число больше введенного пользователем. Попробуйте еще раз!\n",
            "Введите число для отгадки: 70\n",
            "Случайное число больше введенного пользователем. Попробуйте еще раз!\n",
            "Введите число для отгадки: 80\n",
            "Случайное число больше введенного пользователем. Попробуйте еще раз!\n",
            "Введите число для отгадки: 90\n",
            "Случайное число меньше введенного пользователем. Попробуйте еще раз!\n",
            "Введите число для отгадки: 85\n",
            "Случайное число больше введенного пользователем. Попробуйте еще раз!\n",
            "Введите число для отгадки: 87\n",
            "Случайное число больше введенного пользователем. Попробуйте еще раз!\n",
            "Введите число для отгадки: 89\n",
            "Случайное число меньше введенного пользователем. Попробуйте еще раз!\n",
            "Введите число для отгадки: 88\n",
            "Случайное число отгадано верно, поздравляем!\n"
          ],
          "name": "stdout"
        }
      ]
    }
  ]
}