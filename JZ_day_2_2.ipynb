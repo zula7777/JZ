{
  "nbformat": 4,
  "nbformat_minor": 0,
  "metadata": {
    "colab": {
      "name": "JZ_day 2_2.ipynb",
      "provenance": [],
      "authorship_tag": "ABX9TyPYOk7nW3bfTPrGN/r42IRw",
      "include_colab_link": true
    },
    "kernelspec": {
      "name": "python3",
      "display_name": "Python 3"
    }
  },
  "cells": [
    {
      "cell_type": "markdown",
      "metadata": {
        "id": "view-in-github",
        "colab_type": "text"
      },
      "source": [
        "<a href=\"https://colab.research.google.com/github/zula7777/JZ/blob/master/JZ_day_2_2.ipynb\" target=\"_parent\"><img src=\"https://colab.research.google.com/assets/colab-badge.svg\" alt=\"Open In Colab\"/></a>"
      ]
    },
    {
      "cell_type": "code",
      "metadata": {
        "id": "0_upu4OQ0tKa",
        "colab_type": "code",
        "colab": {
          "base_uri": "https://localhost:8080/",
          "height": 68
        },
        "outputId": "485c7845-c7fa-4bf3-dd63-9b01659fb1bb"
      },
      "source": [
        "n = int(input(\"Enter a number for a formula: \"))\n",
        "\n",
        "s1 = str (n) + str (n)\n",
        "s2 = str (n) + str (n) + str (n)\n",
        "formula = n * int(s1) * int(s2)\n",
        "\n",
        "print(\"n * nn * nnn = \")\n",
        "print(formula)"
      ],
      "execution_count": 17,
      "outputs": [
        {
          "output_type": "stream",
          "text": [
            "Enter a number for a formula: 6\n",
            "n * nn * nnn = \n",
            "263736\n"
          ],
          "name": "stdout"
        }
      ]
    }
  ]
}