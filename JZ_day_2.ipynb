{
  "nbformat": 4,
  "nbformat_minor": 0,
  "metadata": {
    "colab": {
      "name": "JZ_day 2.ipynb",
      "provenance": [],
      "collapsed_sections": [],
      "include_colab_link": true
    },
    "kernelspec": {
      "name": "python3",
      "display_name": "Python 3"
    }
  },
  "cells": [
    {
      "cell_type": "markdown",
      "metadata": {
        "id": "view-in-github",
        "colab_type": "text"
      },
      "source": [
        "<a href=\"https://colab.research.google.com/github/zula7777/JZ/blob/master/JZ_day_2.ipynb\" target=\"_parent\"><img src=\"https://colab.research.google.com/assets/colab-badge.svg\" alt=\"Open In Colab\"/></a>"
      ]
    },
    {
      "cell_type": "code",
      "metadata": {
        "id": "ZvKWRS-7fcyd",
        "colab_type": "code",
        "outputId": "4bca89f7-52ae-4fab-d983-47fd98e29cf2",
        "colab": {
          "base_uri": "https://localhost:8080/",
          "height": 51
        }
      },
      "source": [
        "year = int(input(\"Enter a year to check leap: \"))\n",
        "\n",
        "if year < 0:\n",
        "    print(\"Enter a year in AC (year after Christ was born)\")\n",
        "\n",
        "elif year % 4 == 0 and year <= 1600:\n",
        "    print(\"Year is leap\")  \n",
        "\n",
        "elif year % 4 != 0 or (year % 100 == 0 and year % 400 != 0):\n",
        "    print(\"Year is NOT leap\")\n",
        "\n",
        "else:\n",
        "    print(\"Year is leap\")"
      ],
      "execution_count": 0,
      "outputs": [
        {
          "output_type": "stream",
          "text": [
            "Enter a year to check leap: 2000\n",
            "Year is leap\n"
          ],
          "name": "stdout"
        }
      ]
    },
    {
      "cell_type": "code",
      "metadata": {
        "id": "VslzHEO8T6Vb",
        "colab_type": "code",
        "colab": {}
      },
      "source": [
        "n = int(input(\"Enter a number for a formula: \"))\n",
        "\n",
        "s1 = str (n) + str (n)\n",
        "s2 = str (n) + str (n) + str (n)\n",
        "formula = n * int(s1) * int(s2)\n",
        "\n",
        "print(\"n * nn * nnn = \")\n",
        "print(formula)"
      ],
      "execution_count": 0,
      "outputs": []
    },
    {
      "cell_type": "code",
      "metadata": {
        "id": "qyDL18rtT75m",
        "colab_type": "code",
        "colab": {}
      },
      "source": [
        "n = int(input(\"Enter a number: \"))\n",
        "if n % 2 == 0:\n",
        "    print(\"Number is even\")\n",
        "else:\n",
        "    print(\"Number is odd\")"
      ],
      "execution_count": 0,
      "outputs": []
    }
  ]
}