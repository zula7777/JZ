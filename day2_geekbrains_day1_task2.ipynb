{
  "nbformat": 4,
  "nbformat_minor": 0,
  "metadata": {
    "colab": {
      "name": "day2_geekbrains_day1_task2.ipynb",
      "provenance": [],
      "authorship_tag": "ABX9TyMupwb3APIPC0KyDMLnwecm",
      "include_colab_link": true
    },
    "kernelspec": {
      "name": "python3",
      "display_name": "Python 3"
    }
  },
  "cells": [
    {
      "cell_type": "markdown",
      "metadata": {
        "id": "view-in-github",
        "colab_type": "text"
      },
      "source": [
        "<a href=\"https://colab.research.google.com/github/zula7777/JZ/blob/master/day2_geekbrains_day1_task2.ipynb\" target=\"_parent\"><img src=\"https://colab.research.google.com/assets/colab-badge.svg\" alt=\"Open In Colab\"/></a>"
      ]
    },
    {
      "cell_type": "code",
      "metadata": {
        "id": "ToP4pO-OhPWw",
        "colab_type": "code",
        "colab": {
          "base_uri": "https://localhost:8080/",
          "height": 102
        },
        "outputId": "da128c47-280f-4c7b-a213-330f46abb659"
      },
      "source": [
        "x1 = int(input(\"Enter the first coordinate X1 point:\"))\n",
        "y1 = int(input(\"Enter the first coordinate Y1 point:\"))\n",
        "\n",
        "x2 = int(input(\"Enter the first coordinate X2 point:\"))\n",
        "y2 = int(input(\"Enter the first coordinate Y2 point:\"))\n",
        "\n",
        "m = round((y2-y1) / (x2-x1), 2)\n",
        "b = round(m * -x1 + y1, 2)\n",
        "print(f'y = {m} x + {b}')"
      ],
      "execution_count": 9,
      "outputs": [
        {
          "output_type": "stream",
          "text": [
            "Enter the first coordinate X1 point:-3\n",
            "Enter the first coordinate Y1 point:2\n",
            "Enter the first coordinate X2 point:5\n",
            "Enter the first coordinate Y2 point:7\n",
            "y = 0.62 x + 3.86\n"
          ],
          "name": "stdout"
        }
      ]
    }
  ]
}