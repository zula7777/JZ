{
  "nbformat": 4,
  "nbformat_minor": 0,
  "metadata": {
    "colab": {
      "name": "day2_geekbrains_day1_task2.ipynb",
      "provenance": [],
      "authorship_tag": "ABX9TyN51OxoXhJ+HKiYsmx3sQT5",
      "include_colab_link": true
    },
    "kernelspec": {
      "name": "python3",
      "display_name": "Python 3"
    }
  },
  "cells": [
    {
      "cell_type": "markdown",
      "metadata": {
        "id": "view-in-github",
        "colab_type": "text"
      },
      "source": [
        "<a href=\"https://colab.research.google.com/github/zula7777/JZ/blob/master/day2_geekbrains_day1_task2.ipynb\" target=\"_parent\"><img src=\"https://colab.research.google.com/assets/colab-badge.svg\" alt=\"Open In Colab\"/></a>"
      ]
    },
    {
      "cell_type": "code",
      "metadata": {
        "id": "ToP4pO-OhPWw",
        "colab_type": "code",
        "colab": {
          "base_uri": "https://localhost:8080/",
          "height": 102
        },
        "outputId": "815bf6b1-8fac-4dad-fd0a-707b467dcca1"
      },
      "source": [
        "x1 = int(input(\"Enter the first coordinate X1 point:\"))\n",
        "y1 = int(input(\"Enter the first coordinate Y1 point:\"))\n",
        "\n",
        "x2 = int(input(\"Enter the first coordinate X2 point:\"))\n",
        "y2 = int(input(\"Enter the first coordinate Y2 point:\"))\n",
        "\n",
        "m = (y2-y1) / (x2-x1)\n",
        "b = m * -x1 + y1\n",
        "print(f'y = {m} x + {b}')"
      ],
      "execution_count": 8,
      "outputs": [
        {
          "output_type": "stream",
          "text": [
            "Enter the first coordinate X1 point:-2\n",
            "Enter the first coordinate Y1 point:-4\n",
            "Enter the first coordinate X2 point:-5\n",
            "Enter the first coordinate Y2 point:5\n",
            "y = -3.0 x + -10.0\n"
          ],
          "name": "stdout"
        }
      ]
    }
  ]
}