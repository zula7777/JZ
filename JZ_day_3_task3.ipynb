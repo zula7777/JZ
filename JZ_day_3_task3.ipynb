{
  "nbformat": 4,
  "nbformat_minor": 0,
  "metadata": {
    "colab": {
      "name": "JZ_day_3_task3.ipynb",
      "provenance": [],
      "authorship_tag": "ABX9TyPjFELN2bqScnm+7AVQQtHm",
      "include_colab_link": true
    },
    "kernelspec": {
      "name": "python3",
      "display_name": "Python 3"
    }
  },
  "cells": [
    {
      "cell_type": "markdown",
      "metadata": {
        "id": "view-in-github",
        "colab_type": "text"
      },
      "source": [
        "<a href=\"https://colab.research.google.com/github/zula7777/JZ/blob/master/JZ_day_3_task3.ipynb\" target=\"_parent\"><img src=\"https://colab.research.google.com/assets/colab-badge.svg\" alt=\"Open In Colab\"/></a>"
      ]
    },
    {
      "cell_type": "code",
      "metadata": {
        "id": "HTQlFH8kMXPi",
        "colab_type": "code",
        "colab": {
          "base_uri": "https://localhost:8080/",
          "height": 102
        },
        "outputId": "b7143db4-0a01-4764-8844-1e34a906565b"
      },
      "source": [
        "word = input(\"Enter a word: \\n\")\n",
        "\n",
        "n = int(len(word))\n",
        "print (f'The number of characters in the word is/are: {n} {list(word)} ')\n",
        "remove = int(input(\"Which character to remove? \"))\n",
        "\n",
        "if remove <= n:\n",
        "    print(f'{word[:remove-1]}{word[remove:]}')\n",
        "else:\n",
        "    print(\"Select a valid number of a character to remove\")"
      ],
      "execution_count": 19,
      "outputs": [
        {
          "output_type": "stream",
          "text": [
            "Enter a word: \n",
            "hello\n",
            "The number of characters in the word is/are: 5 ['h', 'e', 'l', 'l', 'o'] \n",
            "Which character to remove? 3\n",
            "helo\n"
          ],
          "name": "stdout"
        }
      ]
    },
    {
      "cell_type": "code",
      "metadata": {
        "id": "cqUe8_R2Rxe5",
        "colab_type": "code",
        "colab": {}
      },
      "source": [
        ""
      ],
      "execution_count": 0,
      "outputs": []
    }
  ]
}