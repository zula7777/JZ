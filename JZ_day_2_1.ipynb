{
  "nbformat": 4,
  "nbformat_minor": 0,
  "metadata": {
    "colab": {
      "name": "JZ_day 2_1.ipynb",
      "provenance": [],
      "collapsed_sections": [],
      "authorship_tag": "ABX9TyNJHXwgDbsJaVnjY7xnmlx8",
      "include_colab_link": true
    },
    "kernelspec": {
      "name": "python3",
      "display_name": "Python 3"
    }
  },
  "cells": [
    {
      "cell_type": "markdown",
      "metadata": {
        "id": "view-in-github",
        "colab_type": "text"
      },
      "source": [
        "<a href=\"https://colab.research.google.com/github/zula7777/JZ/blob/master/JZ_day_2_1.ipynb\" target=\"_parent\"><img src=\"https://colab.research.google.com/assets/colab-badge.svg\" alt=\"Open In Colab\"/></a>"
      ]
    },
    {
      "cell_type": "code",
      "metadata": {
        "id": "ZvKWRS-7fcyd",
        "colab_type": "code",
        "colab": {
          "base_uri": "https://localhost:8080/",
          "height": 34
        },
        "outputId": "4a881c1c-ff10-4ef5-cf04-5b151c41e7c1"
      },
      "source": [
        "year = 1900\n",
        "\n",
        "if year < 0:\n",
        "    print(\"Enter a year in AC (year after Christ was born)\")\n",
        "\n",
        "elif year % 4 == 0 and year <= 400:\n",
        "    print(\"Year is leap\")  \n",
        "\n",
        "elif year % 4 != 0 or (year % 100 == 0 and year % 400 != 0):\n",
        "    print(\"Year is NOT leap\")\n",
        "\n",
        "else:\n",
        "    print(\"Year is leap\")"
      ],
      "execution_count": 113,
      "outputs": [
        {
          "output_type": "stream",
          "text": [
            "Year is NOT leap\n"
          ],
          "name": "stdout"
        }
      ]
    }
  ]
}