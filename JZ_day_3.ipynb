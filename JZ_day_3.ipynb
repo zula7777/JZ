{
  "nbformat": 4,
  "nbformat_minor": 0,
  "metadata": {
    "colab": {
      "name": "JZ_day_3.ipynb",
      "provenance": [],
      "authorship_tag": "ABX9TyM7FRTzEQg6F+RS8gPI88LP",
      "include_colab_link": true
    },
    "kernelspec": {
      "name": "python3",
      "display_name": "Python 3"
    }
  },
  "cells": [
    {
      "cell_type": "markdown",
      "metadata": {
        "id": "view-in-github",
        "colab_type": "text"
      },
      "source": [
        "<a href=\"https://colab.research.google.com/github/zula7777/JZ/blob/master/JZ_day_3.ipynb\" target=\"_parent\"><img src=\"https://colab.research.google.com/assets/colab-badge.svg\" alt=\"Open In Colab\"/></a>"
      ]
    },
    {
      "cell_type": "code",
      "metadata": {
        "id": "3BCxJv1tFxAu",
        "colab_type": "code",
        "outputId": "031c7018-eef2-4508-9afe-5cd20d8a9c0a",
        "colab": {
          "base_uri": "https://localhost:8080/",
          "height": 85
        }
      },
      "source": [
        "word_one = input('Enter two words: \\n')\n",
        "word_two = input()\n",
        "\n",
        "divisor = 2\n",
        "\n",
        "message = f'{word_two[:divisor]}{word_one[divisor:]} and {word_one[:divisor]}{word_two[divisor:]}'\n",
        "print(message)"
      ],
      "execution_count": 0,
      "outputs": [
        {
          "output_type": "stream",
          "text": [
            "Enter two words: \n",
            "yuppy\n",
            "boring\n",
            "boppy and yuring\n"
          ],
          "name": "stdout"
        }
      ]
    },
    {
      "cell_type": "code",
      "metadata": {
        "id": "0UstugggYJAp",
        "colab_type": "code",
        "outputId": "9f0a132f-541c-4abc-bcd0-724458a47979",
        "colab": {
          "base_uri": "https://localhost:8080/",
          "height": 102
        }
      },
      "source": [
        "word = input(\"Enter a word: \\n\")\n",
        "\n",
        "n = int(len(word))\n",
        "print (f'The number of characters in the word is/are: {n} {list(word)} ')\n",
        "remove = int(input(\"Which character to remove? \"))\n",
        "\n",
        "if remove <= n:\n",
        "    print(f'{word[:remove-1]}{word[remove:]}')\n",
        "else:\n",
        "    print(\"Select a valid number of a character to remove\")"
      ],
      "execution_count": 0,
      "outputs": [
        {
          "output_type": "stream",
          "text": [
            "Enter a word: \n",
            "starting\n",
            "The number of characters in the word is/are: 8 ['s', 't', 'a', 'r', 't', 'i', 'n', 'g'] \n",
            "Which character to remove? 5\n",
            "staring\n"
          ],
          "name": "stdout"
        }
      ]
    }
  ]
}