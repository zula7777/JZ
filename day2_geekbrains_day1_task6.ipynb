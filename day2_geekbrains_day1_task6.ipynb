{
  "nbformat": 4,
  "nbformat_minor": 0,
  "metadata": {
    "colab": {
      "name": "day2_geekbrains_day1_task6.ipynb",
      "provenance": [],
      "authorship_tag": "ABX9TyPpH1mSDDXrvuKtkDquJ1CQ",
      "include_colab_link": true
    },
    "kernelspec": {
      "name": "python3",
      "display_name": "Python 3"
    }
  },
  "cells": [
    {
      "cell_type": "markdown",
      "metadata": {
        "id": "view-in-github",
        "colab_type": "text"
      },
      "source": [
        "<a href=\"https://colab.research.google.com/github/zula7777/JZ/blob/master/day2_geekbrains_day1_task6.ipynb\" target=\"_parent\"><img src=\"https://colab.research.google.com/assets/colab-badge.svg\" alt=\"Open In Colab\"/></a>"
      ]
    },
    {
      "cell_type": "code",
      "metadata": {
        "id": "Su7n1EEEURxO",
        "colab_type": "code",
        "colab": {
          "base_uri": "https://localhost:8080/",
          "height": 102
        },
        "outputId": "27a0de04-919e-4d7e-e44e-a049d6061616"
      },
      "source": [
        "print(\"Enter lengths for each side of triangle\")\n",
        "a = int(input(\"Length of side 1: \"))\n",
        "b = int(input(\"Length of side 2: \"))\n",
        "c = int(input(\"Length of side 3: \"))\n",
        "\n",
        "if a == b and a == c and b == c:\n",
        "  print(\"The triangle is equilateral\")\n",
        "elif a == b or a == c or b == c:\n",
        "  print(\"The triangle is isosceles\")\n",
        "else:\n",
        "  print(\"The triangle is scalene\")\n"
      ],
      "execution_count": 10,
      "outputs": [
        {
          "output_type": "stream",
          "text": [
            "Enter lengths for each side of triangle\n",
            "Length of side 1: 3\n",
            "Length of side 2: 3\n",
            "Length of side 3: 4\n",
            "The triangle is isosceles\n"
          ],
          "name": "stdout"
        }
      ]
    }
  ]
}