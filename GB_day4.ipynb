{
  "nbformat": 4,
  "nbformat_minor": 0,
  "metadata": {
    "colab": {
      "name": "GB_day3.ipynb",
      "provenance": [],
      "authorship_tag": "ABX9TyNPu+o3cBwWpDVO+FCGBJnY",
      "include_colab_link": true
    },
    "kernelspec": {
      "name": "python3",
      "display_name": "Python 3"
    }
  },
  "cells": [
    {
      "cell_type": "markdown",
      "metadata": {
        "id": "view-in-github",
        "colab_type": "text"
      },
      "source": [
        "<a href=\"https://colab.research.google.com/github/zula7777/JZ/blob/master/GB_day3.ipynb\" target=\"_parent\"><img src=\"https://colab.research.google.com/assets/colab-badge.svg\" alt=\"Open In Colab\"/></a>"
      ]
    },
    {
      "cell_type": "code",
      "metadata": {
        "id": "_ycbG8oW-7Ck",
        "colab_type": "code",
        "colab": {
          "base_uri": "https://localhost:8080/",
          "height": 67
        },
        "outputId": "c55fdbfb-1376-4fb1-8ef9-0a9ccf72dbd2"
      },
      "source": [
        "\n",
        "from random import random\n",
        "n = int(input('Введите длину случайного списка: '))\n",
        "array = []\n",
        "\n",
        "for i in range(n):\n",
        "    array.append(int(random() * -100))\n",
        "print(array)\n",
        " \n",
        "i = 0\n",
        "max_n = -1\n",
        "while i < n:\n",
        "    if array[i] < 0 and max_n == -1:\n",
        "        max_n = i\n",
        "    elif array[i] < 0 and array[i] > array[max_n]:\n",
        "        max_n = i\n",
        "    i += 1\n",
        " \n",
        "print(f'Максимальное отрицательное число: {array[max_n]} находится на {max_n+1} месте по списку')"
      ],
      "execution_count": 23,
      "outputs": [
        {
          "output_type": "stream",
          "text": [
            "Введите длину случайного списка: 5\n",
            "[-70, -19, -66, -24, -28]\n",
            "Максимальное отрицательное число: -19 находится на 2 месте по списку\n"
          ],
          "name": "stdout"
        }
      ]
    }
  ]
}
