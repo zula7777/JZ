{
  "nbformat": 4,
  "nbformat_minor": 0,
  "metadata": {
    "colab": {
      "name": "GB_day4.ipynb",
      "provenance": [],
      "collapsed_sections": [],
      "authorship_tag": "ABX9TyP0s4FIMCWg0B2RGUuLR774",
      "include_colab_link": true
    },
    "kernelspec": {
      "name": "python3",
      "display_name": "Python 3"
    }
  },
  "cells": [
    {
      "cell_type": "markdown",
      "metadata": {
        "id": "view-in-github",
        "colab_type": "text"
      },
      "source": [
        "<a href=\"https://colab.research.google.com/github/zula7777/JZ/blob/master/GB_day4.ipynb\" target=\"_parent\"><img src=\"https://colab.research.google.com/assets/colab-badge.svg\" alt=\"Open In Colab\"/></a>"
      ]
    },
    {
      "cell_type": "code",
      "metadata": {
        "id": "XNfgM1cErBvD",
        "colab_type": "code",
        "colab": {
          "base_uri": "https://localhost:8080/",
          "height": 302
        },
        "outputId": "9d3888bf-f3b2-432c-8ec6-b36a2d2bcd91"
      },
      "source": [
        "#Найти сумму n элементов следующего ряда чисел: 1, -0.5, 0.25, -0.125, 0.0625… Количество элементов (n) вводится с клавиатуры\n",
        "import cProfile\n",
        "\n",
        "def test_element(func):\n",
        "  lst = [0, 1, -0.5, 0.25, -0.125, 0.0625]\n",
        "  for i, item in enumerate(lst):\n",
        "    assert item == func(i)\n",
        "    print(f'Test {i} OK')\n",
        "    \n",
        "def element(n):\n",
        "  if n < 2:\n",
        "    return n\n",
        "  return element(n-1) / -2\n",
        "  \n",
        "test_element(element)\n",
        "\n",
        "cProfile.run('element(900)') \n",
        "\n",
        "#Test 0 OK\n",
        "#Test 1 OK\n",
        "#Test 2 OK\n",
        "#Test 3 OK\n",
        "#Test 4 OK\n",
        "#Test 5 OK\n",
        "\n",
        "#cProfile.run('element(10)')\n",
        "#         13 function calls (4 primitive calls) in 0.000 seconds\n",
        "\n",
        "#   Ordered by: standard name\n",
        "\n",
        "#   ncalls  tottime  percall  cumtime  percall filename:lineno(function)\n",
        "#     10/1    0.000    0.000    0.000    0.000 <ipython-input-34-75e48d4eeebf>:9(element)\n",
        "#        1    0.000    0.000    0.000    0.000 <string>:1(<module>)\n",
        "#        1    0.000    0.000    0.000    0.000 {built-in method builtins.exec}\n",
        "#        1    0.000    0.000    0.000    0.000 {method 'disable' of '_lsprof.Profiler' objects}\n",
        "\n",
        "\n",
        "#cProfile.run('element(500)') \n",
        "#      503 function calls (4 primitive calls) in 0.001 seconds\n",
        "\n",
        "#   Ordered by: standard name\n",
        "\n",
        "#  ncalls  tottime  percall  cumtime  percall filename:lineno(function)\n",
        "#    500/1    0.001    0.000    0.001    0.001 <ipython-input-37-c5f6a5cad6f7>:9(element)\n",
        "#        1    0.000    0.000    0.001    0.001 <string>:1(<module>)\n",
        "#        1    0.000    0.000    0.001    0.001 {built-in method builtins.exec}\n",
        "#        1    0.000    0.000    0.000    0.000 {method 'disable' of '_lsprof.Profiler' objects}\n",
        "\n",
        "\n",
        "#cProfile.run('element(900)') \n",
        "#       903 function calls (4 primitive calls) in 0.001 seconds\n",
        "\n",
        "#   Ordered by: standard name\n",
        "\n",
        "#   ncalls  tottime  percall  cumtime  percall filename:lineno(function)\n",
        "#    900/1    0.001    0.000    0.001    0.001 <ipython-input-39-60a74ac36006>:9(element)\n",
        "#        1    0.000    0.000    0.001    0.001 <string>:1(<module>)\n",
        "#        1    0.000    0.000    0.001    0.001 {built-in method builtins.exec}\n",
        "#        1    0.000    0.000    0.000    0.000 {method 'disable' of '_lsprof.Profiler' objects}"
      ],
      "execution_count": 39,
      "outputs": [
        {
          "output_type": "stream",
          "text": [
            "Test 0 OK\n",
            "Test 1 OK\n",
            "Test 2 OK\n",
            "Test 3 OK\n",
            "Test 4 OK\n",
            "Test 5 OK\n",
            "         903 function calls (4 primitive calls) in 0.001 seconds\n",
            "\n",
            "   Ordered by: standard name\n",
            "\n",
            "   ncalls  tottime  percall  cumtime  percall filename:lineno(function)\n",
            "    900/1    0.001    0.000    0.001    0.001 <ipython-input-39-60a74ac36006>:9(element)\n",
            "        1    0.000    0.000    0.001    0.001 <string>:1(<module>)\n",
            "        1    0.000    0.000    0.001    0.001 {built-in method builtins.exec}\n",
            "        1    0.000    0.000    0.000    0.000 {method 'disable' of '_lsprof.Profiler' objects}\n",
            "\n",
            "\n"
          ],
          "name": "stdout"
        }
      ]
    }
  ]
}