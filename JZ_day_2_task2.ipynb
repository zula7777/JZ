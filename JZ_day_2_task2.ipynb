{
  "nbformat": 4,
  "nbformat_minor": 0,
  "metadata": {
    "colab": {
      "name": "JZ_day_2_task2.ipynb",
      "provenance": [],
      "authorship_tag": "ABX9TyMLYFja3SV2+JXFtz1SvtxT",
      "include_colab_link": true
    },
    "kernelspec": {
      "name": "python3",
      "display_name": "Python 3"
    }
  },
  "cells": [
    {
      "cell_type": "markdown",
      "metadata": {
        "id": "view-in-github",
        "colab_type": "text"
      },
      "source": [
        "<a href=\"https://colab.research.google.com/github/zula7777/JZ/blob/master/JZ_day_2_task2.ipynb\" target=\"_parent\"><img src=\"https://colab.research.google.com/assets/colab-badge.svg\" alt=\"Open In Colab\"/></a>"
      ]
    },
    {
      "cell_type": "code",
      "metadata": {
        "id": "3BCxJv1tFxAu",
        "colab_type": "code",
        "colab": {
          "base_uri": "https://localhost:8080/",
          "height": 85
        },
        "outputId": "08d6ff3a-7d79-425a-8b83-47f9fb57c620"
      },
      "source": [
        "word_one = input('Enter two words: \\n')\n",
        "word_two = input()\n",
        "divisor = 2\n",
        "\n",
        "message = f'{word_two[:2]}{word_one[2:]} and {word_one[:2]}{word_two[2:]}'\n",
        "print(message)"
      ],
      "execution_count": 6,
      "outputs": [
        {
          "output_type": "stream",
          "text": [
            "Enter two words: \n",
            "abc\n",
            "xyz\n",
            "xyc and abz\n"
          ],
          "name": "stdout"
        }
      ]
    }
  ]
}